{
 "cells": [
  {
   "cell_type": "code",
   "execution_count": 2,
   "metadata": {},
   "outputs": [],
   "source": [
    "import numpy as np\n",
    "from sklearn.datasets import load_iris, load_digits\n",
    "from sklearn.model_selection import train_test_split\n",
    "import matplotlib.pyplot as plt\n",
    "import seaborn as sns\n",
    "import pandas as pd\n",
    "import umap\n",
    "import requests\n",
    "%matplotlib inline\n",
    "sns.set(style='white', context='notebook', rc={'figure.figsize':(14,10)})"
   ]
  },
  {
   "cell_type": "code",
   "execution_count": 3,
   "metadata": {
    "scrolled": false
   },
   "outputs": [
    {
     "name": "stdout",
     "output_type": "stream",
     "text": [
      "[{'leagueid': 1129, 'ticket': None, 'banner': None, 'tier': 'professional', 'name': 'Copa Argentina'}, {'leagueid': 1182, 'ticket': None, 'banner': None, 'tier': 'excluded', 'name': 'IGLStar Dota 2 Championship'}, {'leagueid': 2423, 'ticket': None, 'banner': None, 'tier': 'excluded', 'name': 'Miracle Tournament Season 1'}, {'leagueid': 2501, 'ticket': None, 'banner': None, 'tier': 'professional', 'name': 'Cup of Heroes 3'}, {'leagueid': 2535, 'ticket': None, 'banner': None, 'tier': 'professional', 'name': 'CI Cyber League: Second Cup'}, {'leagueid': 2556, 'ticket': None, 'banner': None, 'tier': 'excluded', 'name': 'Reverant Dota 2 Cup #1'}, {'leagueid': 2859, 'ticket': None, 'banner': None, 'tier': 'excluded', 'name': 'North American Solo Mid 1v1 Season 2'}, {'leagueid': 2896, 'ticket': None, 'banner': None, 'tier': 'excluded', 'name': 'Japan Dota Cup #4'}, {'leagueid': 2923, 'ticket': None, 'banner': None, 'tier': 'excluded', 'name': 'chuangleague'}, {'leagueid': 2969, 'ticket': None, 'banner': None, 'tier': 'excluded', 'name': 'Sable Cup 2015 - Defense of the Australians'}]\n",
      "      leagueid                                                name\n",
      "438   12734     DPC Winter 21 Qualifier (NA) presented by BTS     \n",
      "2119  13119     DPC Spring 21 Upper Division (NA) presented by BTS\n",
      "3164  12735     DPC Winter 21 League (NA) presented by BTS        \n",
      "4269  13092     DPC Spring 21 Qualifier (NA) presented by BTS     \n",
      "4271  13120     DPC Spring 21 Lower Division (NA) presented by BTS\n",
      "      leagueid                                                        name\n",
      "2287  13028     DPC Spring 21 Qualifier (SA) presented by OGA             \n",
      "3134  12727     DPC Winter 21 League (SA) presented by OGA                \n",
      "3163  12726     DPC Winter 21 Qualifier (SA) presented by OGA             \n",
      "3252  13110     DPC Spring 21 League (SA) Lower Division presented by OGA \n",
      "4270  13109     DPC Spring 21 League (SA) Upper Division presented by OGA \n",
      "      leagueid                                                   name\n",
      "31    12721     DPC Winter 21 Qualifier (SEA) presented by PGL       \n",
      "676   12705     DPC Winter 21 League (SEA) presented by PGL          \n",
      "760   13108     DPC 2021 Season 2 Upper League (SEA) presented by PGL\n",
      "2118  13107     DPC 2021 Season 2 Lower League (SEA) presented by PGL\n",
      "      leagueid  \\\n",
      "2100  12724      \n",
      "2364  13113      \n",
      "2806  13112      \n",
      "3986  12723      \n",
      "3996  13063      \n",
      "\n",
      "                                                                     name  \n",
      "2100  DPC Winter 21 Qualifier (CN) presented by Perfect World              \n",
      "2364  DPC Spring 21 League (CN) Lower Division presented by Perfect World  \n",
      "2806  DPC Spring 21 League (CN) Upper Division presented by Perfect World  \n",
      "3986  DPC Winter 21 League (CN) presented by Perfect World                 \n",
      "3996  DPC Spring 21 Qualifier (CN) presented by Perfect World              \n",
      "      leagueid                                                     name\n",
      "294   12719     DPC Winter 21 Qualifier (WEU) presented by DreamLeague \n",
      "1844  13115     DreamLeague Season 15 DPC Western Europe Lower Division\n",
      "2747  12720     DPC Winter 21 League (WEU) presented by DreamLeague    \n",
      "4268  13114     DreamLeague Season 15 DPC Western Europe Upper Division\n",
      "      leagueid                                                name\n",
      "3133  12717     DPC Winter 21 Qualifier (CIS) presented by ESL One\n",
      "3189  12718     DPC Winter 21 League (EEU) presented by ESL One   \n",
      "3418  13116     ESL One DPC Eastern Europe Season 2 Upper Division\n",
      "4272  13117     ESL One DPC Eastern Europe Season 2 Lower Division\n"
     ]
    },
    {
     "name": "stderr",
     "output_type": "stream",
     "text": [
      "C:\\Users\\5cent\\Anaconda3\\lib\\site-packages\\pandas\\core\\strings.py:1843: UserWarning: This pattern has match groups. To actually get the groups, use str.extract.\n",
      "  return func(self, *args, **kwargs)\n"
     ]
    }
   ],
   "source": [
    "pd.set_option('display.max_colwidth', -1)\n",
    "r = requests.get(\"https://api.opendota.com/api/leagues\")\n",
    "print(r.json()[:10])\n",
    "leagues = pd.DataFrame(r.json())\n",
    "leagues.sort_values(\"leagueid\")\n",
    "\n",
    "proleagues = leagues[leagues[\"name\"].str.contains(\"DPC\")]\n",
    "NADPC = proleagues[proleagues[\"name\"].str.contains(\"(NA)\")]\n",
    "print(NADPC[[\"leagueid\",\"name\"]])\n",
    "SADPC = proleagues[proleagues[\"name\"].str.contains(\"(SA)\")]\n",
    "print(SADPC[[\"leagueid\",\"name\"]])\n",
    "SEADPC = proleagues[proleagues[\"name\"].str.contains(\"(SEA)\")]\n",
    "print(SEADPC[[\"leagueid\",\"name\"]])\n",
    "CNDPC = proleagues[proleagues[\"name\"].str.contains(\"(CN)\")]\n",
    "print(CNDPC[[\"leagueid\",\"name\"]])\n",
    "WEUDPC = proleagues[proleagues[\"name\"].str.contains(\"(WEU)\") | proleagues[\"name\"].str.contains(\"Western Europe\")]\n",
    "print(WEUDPC[[\"leagueid\",\"name\"]])\n",
    "EEUDPC = proleagues[proleagues[\"name\"].str.contains(\"(EEU)\") | proleagues[\"name\"].str.contains(\"(CIS)\") | proleagues[\"name\"].str.contains(\"Eastern Europe\")]\n",
    "print(EEUDPC[[\"leagueid\",\"name\"]])\n"
   ]
  },
  {
   "cell_type": "code",
   "execution_count": 4,
   "metadata": {},
   "outputs": [],
   "source": [
    "leagueids = {\"NA Season 1\":12735,\"NA Season 2 Upper\":13119,\"NA Season 2 Lower\":13120,\n",
    "            \"SA Season 1\":12727,\"SA Season 2 Upper\":13109,\"SA Season 2 Lower\":13110,\n",
    "            \"SEA Season 1\":12705,\"SEA Season 2 Upper\":13108,\"SEA Season 2 Lower\":13107,\n",
    "            \"CN Season 1\":12723,\"CN Season 2 Upper\":13112,\"CN Season 2 Lower\":13113,\n",
    "            \"WEU Season 1\":12720,\"WEU Season 2 Upper\":13114,\"WEU Season 2 Lower\":13115,\n",
    "            \"EEU Season 1\":12718,\"EEU Season 2 Upper\":13116,\"EEU Season 2 Lower\":13117}"
   ]
  },
  {
   "cell_type": "markdown",
   "metadata": {},
   "source": [
    "#SQL query for OpenDota explorer\n",
    "\"\"\"\n",
    "SELECT\n",
    "matches.match_id,\n",
    "matches.picks_bans,\n",
    "matches.radiant_team_id,\n",
    "matches.dire_team_id,\n",
    "leagues.name leaguename,\n",
    "team1.name AS radiant_team,\n",
    "team2.name AS dire_team\n",
    "FROM matches\n",
    "JOIN leagues using(leagueid)\n",
    "JOIN teams team1 ON matches.radiant_team_id = team1.team_id\n",
    "JOIN teams team2 ON matches.dire_team_id = team2.team_id\n",
    "WHERE leagueid = #####\n",
    "\"\"\"\n",
    "\n",
    "\"https://www.opendota.com/explorer?sql=SELECT%0Amatches.match_id%2C%0Amatches.picks_bans%2C%0Amatches.radiant_team_id%2C%0Amatches.dire_team_id%2C%0Aleagues.name%20leaguename%2C%0Ateam1.name%20AS%20radiant_team%2C%0Ateam2.name%20AS%20dire_team%0AFROM%20matches%0AJOIN%20leagues%20using(leagueid)%0AJOIN%20teams%20team1%20ON%20matches.radiant_team_id%20%3D%20team1.team_id%0AJOIN%20teams%20team2%20ON%20matches.dire_team_id%20%3D%20team2.team_id%0AWHERE%20leagueid%20%3D%2012723&format=\""
   ]
  },
  {
   "cell_type": "code",
   "execution_count": 5,
   "metadata": {},
   "outputs": [],
   "source": [
    "#Encoding each pick or ban as a discrete column would be too sparse for the size of our dataset and would not represent \n",
    "#the relationship between each pick and ban, ie. picking a hero 1st and 2nd represents a more closely aligned preference\n",
    "#than picking a hero 1st and 5th, or picking it 3rd and not picking it at all.\n",
    "#So instead we will assign numerical values to each option, pick or ban to give each hero a value in each match for each team.\n",
    "\n",
    "#first iteration\n",
    "#first 4 bans = x + 1\n",
    "#first 4 picks = x + 1\n",
    "#next 6 bans = x/2 + 1\n",
    "#next 4 picks = x/2 + 1\n",
    "#last 4 bans = 1\n",
    "#last 2 picks = 1\n",
    "\n",
    "#we can approximate this with the function score = x - (x-1) * (i/23) where i is the pick/ban order."
   ]
  },
  {
   "cell_type": "code",
   "execution_count": 6,
   "metadata": {},
   "outputs": [
    {
     "name": "stdout",
     "output_type": "stream",
     "text": [
      "{1: 'Anti-Mage', 2: 'Axe', 3: 'Bane', 4: 'Bloodseeker', 5: 'Crystal Maiden', 6: 'Drow Ranger', 7: 'Earthshaker', 8: 'Juggernaut', 9: 'Mirana', 10: 'Morphling', 11: 'Shadow Fiend', 12: 'Phantom Lancer', 13: 'Puck', 14: 'Pudge', 15: 'Razor', 16: 'Sand King', 17: 'Storm Spirit', 18: 'Sven', 19: 'Tiny', 20: 'Vengeful Spirit', 21: 'Windranger', 22: 'Zeus', 23: 'Kunkka', 25: 'Lina', 26: 'Lion', 27: 'Shadow Shaman', 28: 'Slardar', 29: 'Tidehunter', 30: 'Witch Doctor', 31: 'Lich', 32: 'Riki', 33: 'Enigma', 34: 'Tinker', 35: 'Sniper', 36: 'Necrophos', 37: 'Warlock', 38: 'Beastmaster', 39: 'Queen of Pain', 40: 'Venomancer', 41: 'Faceless Void', 42: 'Wraith King', 43: 'Death Prophet', 44: 'Phantom Assassin', 45: 'Pugna', 46: 'Templar Assassin', 47: 'Viper', 48: 'Luna', 49: 'Dragon Knight', 50: 'Dazzle', 51: 'Clockwerk', 52: 'Leshrac', 53: \"Nature's Prophet\", 54: 'Lifestealer', 55: 'Dark Seer', 56: 'Clinkz', 57: 'Omniknight', 58: 'Enchantress', 59: 'Huskar', 60: 'Night Stalker', 61: 'Broodmother', 62: 'Bounty Hunter', 63: 'Weaver', 64: 'Jakiro', 65: 'Batrider', 66: 'Chen', 67: 'Spectre', 68: 'Ancient Apparition', 69: 'Doom', 70: 'Ursa', 71: 'Spirit Breaker', 72: 'Gyrocopter', 73: 'Alchemist', 74: 'Invoker', 75: 'Silencer', 76: 'Outworld Destroyer', 77: 'Lycan', 78: 'Brewmaster', 79: 'Shadow Demon', 80: 'Lone Druid', 81: 'Chaos Knight', 82: 'Meepo', 83: 'Treant Protector', 84: 'Ogre Magi', 85: 'Undying', 86: 'Rubick', 87: 'Disruptor', 88: 'Nyx Assassin', 89: 'Naga Siren', 90: 'Keeper of the Light', 91: 'Io', 92: 'Visage', 93: 'Slark', 94: 'Medusa', 95: 'Troll Warlord', 96: 'Centaur Warrunner', 97: 'Magnus', 98: 'Timbersaw', 99: 'Bristleback', 100: 'Tusk', 101: 'Skywrath Mage', 102: 'Abaddon', 103: 'Elder Titan', 104: 'Legion Commander', 105: 'Techies', 106: 'Ember Spirit', 107: 'Earth Spirit', 108: 'Underlord', 109: 'Terrorblade', 110: 'Phoenix', 111: 'Oracle', 112: 'Winter Wyvern', 113: 'Arc Warden', 114: 'Monkey King', 119: 'Dark Willow', 120: 'Pangolier', 121: 'Grimstroke', 123: 'Hoodwink', 126: 'Void Spirit', 128: 'Snapfire', 129: 'Mars', 135: 'Dawnbreaker'}\n"
     ]
    }
   ],
   "source": [
    "import requests\n",
    "\n",
    "#first we get the hero ids:\n",
    "r = requests.get(\"https://api.opendota.com/api/heroes\")\n",
    "\n",
    "heroes = {}\n",
    "\n",
    "for hero in r.json():\n",
    "    i = hero[\"id\"]\n",
    "    name = hero[\"localized_name\"]\n",
    "    heroes[i] = name\n",
    "    \n",
    "print(heroes)"
   ]
  },
  {
   "cell_type": "code",
   "execution_count": 14,
   "metadata": {},
   "outputs": [],
   "source": [
    "import requests\n",
    "import time\n",
    "import matplotlib.pyplot as plt\n",
    "import seaborn as sns\n",
    "import pandas as pd\n",
    "import numpy as np\n",
    "\n",
    "directory = \"D:\\\\Stratz\\\\\"\n",
    "\n",
    "load_dict = {}\n",
    "\n",
    "regions = [\"NA\",\"SA\",\"SEA\",\"CN\",\"EEU\",\"WEU\"]\n",
    "seasons = [\"Season 1\",\"Season 2 Upper\",\"Season 2 Lower\"]\n",
    "pickscalingfactor = 1\n",
    "\n",
    "for region in regions:\n",
    "    for season in seasons:\n",
    "        leagueid = leagueids[region + \" \" + season]\n",
    "        r = requests.get(\"https://api.opendota.com/api/explorer?sql=SELECT%0Amatches.match_id%2C%0Amatches.picks_bans%2C%0Amatches.radiant_team_id%2C%0Amatches.dire_team_id%2C%0Aleagues.name%20leaguename%2C%0Ateam1.name%20AS%20radiant_team%2C%0Ateam2.name%20AS%20dire_team%0AFROM%20matches%0AJOIN%20leagues%20using(leagueid)%0AJOIN%20teams%20team1%20ON%20matches.radiant_team_id%20%3D%20team1.team_id%0AJOIN%20teams%20team2%20ON%20matches.dire_team_id%20%3D%20team2.team_id%0AWHERE%20leagueid%20%3D%20{0}&format=\".format(leagueid))\n",
    "        for match in r.json()[\"rows\"]:\n",
    "            pickbans = match[\"picks_bans\"]\n",
    "            if not pickbans:\n",
    "                #this match was probably remade or for some other reason the draft phase wasn't recorded, for now we ignore.\n",
    "                continue\n",
    "            radiantteam = match[\"radiant_team\"]\n",
    "            direteam = match[\"dire_team\"]\n",
    "            radianttup = (region,radiantteam)\n",
    "            diretup = (region,direteam)\n",
    "            if radianttup not in load_dict:\n",
    "                load_dict[radianttup] = dict(zip(heroes.keys(), [0]*len(heroes.keys())))\n",
    "            if diretup not in load_dict:\n",
    "                load_dict[diretup] = dict(zip(heroes.keys(), [0]*len(heroes.keys())))         \n",
    "            for pickban in pickbans:\n",
    "                heroid = pickban[\"hero_id\"]\n",
    "                team = pickban[\"team\"]\n",
    "                order = pickban[\"order\"]\n",
    "                score = pickscalingfactor - (pickscalingfactor-1)*(order/23)\n",
    "                if team:\n",
    "                    load_dict[diretup][heroid] += score\n",
    "                else:\n",
    "                    load_dict[radianttup][heroid] += score\n",
    "        time.sleep(10)\n"
   ]
  },
  {
   "cell_type": "code",
   "execution_count": 15,
   "metadata": {
    "scrolled": true
   },
   "outputs": [
    {
     "name": "stdout",
     "output_type": "stream",
     "text": [
      "                           1    2    3    4    5    6    7     8     9   10  \\\n",
      "Region Team                                                                   \n",
      "NA     Evil Geniuses     0.0  1.0  1.0  2.0  4.0  2.0  4.0  9.0   4.0   4.0   \n",
      "       Quincy Crew       0.0  1.0  0.0  2.0  2.0  1.0  1.0  10.0  4.0   7.0   \n",
      "       Arkosh Gaming     2.0  2.0  2.0  1.0  3.0  8.0  6.0  11.0  2.0   4.0   \n",
      "       Simply TOOBASED   2.0  2.0  0.0  2.0  0.0  1.0  2.0  7.0   4.0   7.0   \n",
      "       Undying           1.0  2.0  0.0  1.0  0.0  2.0  4.0  13.0  11.0  6.0   \n",
      "...                      ...  ...  ...  ...  ...  ...  ...  ...   ...   ...   \n",
      "WEU    burjui            2.0  1.0  0.0  0.0  0.0  0.0  1.0  1.0   0.0   2.0   \n",
      "       Level UP          1.0  2.0  0.0  1.0  0.0  1.0  0.0  2.0   1.0   3.0   \n",
      "       Team Bald Reborn  0.0  1.0  1.0  5.0  1.0  2.0  0.0  4.0   1.0   4.0   \n",
      "       Into The Breach   2.0  7.0  0.0  0.0  0.0  0.0  0.0  2.0   2.0   5.0   \n",
      "       Ghost Frogs       3.0  4.0  1.0  4.0  1.0  2.0  0.0  8.0   8.0   3.0   \n",
      "\n",
      "                         ...  113   114  119  120   121  123   126  128   129  \\\n",
      "Region Team              ...                                                    \n",
      "NA     Evil Geniuses     ...  0.0  11.0  0.0  2.0  1.0   0.0  8.0   0.0  3.0    \n",
      "       Quincy Crew       ...  0.0  6.0   2.0  1.0  3.0   5.0  12.0  3.0  7.0    \n",
      "       Arkosh Gaming     ...  0.0  4.0   0.0  4.0  2.0   1.0  8.0   0.0  9.0    \n",
      "       Simply TOOBASED   ...  0.0  8.0   1.0  9.0  4.0   1.0  8.0   5.0  13.0   \n",
      "       Undying           ...  0.0  8.0   4.0  8.0  2.0   1.0  12.0  2.0  9.0    \n",
      "...                      ...  ...  ...   ...  ...  ...   ...  ...   ...   ...   \n",
      "WEU    burjui            ...  0.0  3.0   0.0  3.0  0.0   0.0  3.0   0.0  7.0    \n",
      "       Level UP          ...  0.0  1.0   0.0  4.0  5.0   0.0  5.0   7.0  2.0    \n",
      "       Team Bald Reborn  ...  0.0  1.0   2.0  4.0  14.0  3.0  3.0   3.0  6.0    \n",
      "       Into The Breach   ...  2.0  0.0   1.0  1.0  6.0   2.0  6.0   0.0  1.0    \n",
      "       Ghost Frogs       ...  0.0  3.0   0.0  2.0  2.0   1.0  6.0   2.0  3.0    \n",
      "\n",
      "                         135  \n",
      "Region Team                   \n",
      "NA     Evil Geniuses     0    \n",
      "       Quincy Crew       0    \n",
      "       Arkosh Gaming     0    \n",
      "       Simply TOOBASED   0    \n",
      "       Undying           0    \n",
      "...                     ..    \n",
      "WEU    burjui            0    \n",
      "       Level UP          0    \n",
      "       Team Bald Reborn  0    \n",
      "       Into The Breach   0    \n",
      "       Ghost Frogs       0    \n",
      "\n",
      "[120 rows x 121 columns]\n"
     ]
    }
   ],
   "source": [
    "df = pd.DataFrame.from_dict(load_dict,orient='index',columns=heroes.keys())\n",
    "df.index.names = ['Region','Team']\n",
    "print(df)"
   ]
  },
  {
   "cell_type": "code",
   "execution_count": 16,
   "metadata": {
    "scrolled": true
   },
   "outputs": [
    {
     "name": "stdout",
     "output_type": "stream",
     "text": [
      "Team\n",
      "Hippomaniacs         347.0\n",
      "Meta4Pro             144.0\n",
      "Brame                444.0\n",
      "Spider Pigzs         204.0\n",
      "Into the Breach      240.0\n",
      "No Bounty Hunter     408.0\n",
      "mudgolems            96.0 \n",
      "OG                   504.0\n",
      "Nigma                432.0\n",
      "ViKin.gg             432.0\n",
      "high coast           132.0\n",
      "Tundra Esports       432.0\n",
      "Alliance             456.0\n",
      "Team Liquid          480.0\n",
      "Team Secret          420.0\n",
      "Hellbear Smashers    432.0\n",
      "Chicken Fighters     216.0\n",
      "burjui               132.0\n",
      "Level UP             192.0\n",
      "Team Bald Reborn     180.0\n",
      "Into The Breach      144.0\n",
      "Ghost Frogs          204.0\n",
      "dtype: float64\n",
      "Team\n",
      "Evil Geniuses          1.0\n",
      "Quincy Crew            1.0\n",
      "Arkosh Gaming          1.0\n",
      "Simply TOOBASED        1.0\n",
      "Undying                1.0\n",
      "A-Team                 1.0\n",
      "sadboys                1.0\n",
      "Black N Yellow         1.0\n",
      "5ManMidas              1.0\n",
      "Electronic Boys        1.0\n",
      "Byzantine Raiders      1.0\n",
      "The Cut                1.0\n",
      "DogChamp               1.0\n",
      "4 Zoomers              1.0\n",
      "felt                   1.0\n",
      "Jiang Hu               1.0\n",
      "Pecado Squad Gaming    1.0\n",
      "D2 Hustlers            1.0\n",
      "Wind and Rain          1.0\n",
      "dtype: float64\n"
     ]
    }
   ],
   "source": [
    "print(df.xs(\"WEU\", level=\"Region\").sum(axis=1))\n",
    "df = df.div(df.sum(axis=1), axis=0)\n",
    "print(df.xs(\"NA\", level=\"Region\").sum(axis=1))"
   ]
  },
  {
   "cell_type": "code",
   "execution_count": 17,
   "metadata": {},
   "outputs": [],
   "source": [
    "import umap\n",
    "\n",
    "reducer = umap.UMAP()\n",
    "embedding = reducer.fit_transform(df)"
   ]
  },
  {
   "cell_type": "code",
   "execution_count": 18,
   "metadata": {},
   "outputs": [
    {
     "data": {
      "image/png": "[encoded data removed]",
      "text/plain": [
       "<Figure size 576x576 with 1 Axes>"
      ]
     },
     "metadata": {},
     "output_type": "display_data"
    }
   ],
   "source": [
    "%matplotlib inline\n",
    "sns.set(style='white', context='notebook', rc={'figure.figsize':(8,8)})\n",
    "\n",
    "labelit = False\n",
    "\n",
    "scatter = plt.scatter(embedding[:, 0], embedding[:, 1], c=[regions.index(x[0]) for x in df.index],cmap=\"Accent\",s=200)\n",
    "legend = plt.legend(scatter.legend_elements()[0],regions,loc=\"upper right\",title=\"Region\",fontsize=12)\n",
    "plt.gca().set_aspect('equal', 'datalim')\n",
    "plt.title('UMAP of DPC Team Picks/Bans', fontsize=24)\n",
    "if labelit:\n",
    "    for team,point in zip(df.index,embedding):\n",
    "        label = team[1]\n",
    "        plt.annotate(label, # this is the text\n",
    "                     point, # this is the point to label\n",
    "                     textcoords=\"offset points\", # how to position the text\n",
    "                     xytext=(0,0), # distance from text to points (x,y)\n",
    "                     ha='center') # horizontal alignment can be left, right or center"
   ]
  },
  {
   "cell_type": "code",
   "execution_count": null,
   "metadata": {},
   "outputs": [],
   "source": []
  },
  {
   "cell_type": "code",
   "execution_count": null,
   "metadata": {},
   "outputs": [],
   "source": []
  }
 ],
 "metadata": {
  "kernelspec": {
   "display_name": "Python 3",
   "language": "python",
   "name": "python3"
  },
  "language_info": {
   "codemirror_mode": {
    "name": "ipython",
    "version": 3
   },
   "file_extension": ".py",
   "mimetype": "text/x-python",
   "name": "python",
   "nbconvert_exporter": "python",
   "pygments_lexer": "ipython3",
   "version": "3.7.4"
  }
 },
 "nbformat": 4,
 "nbformat_minor": 2
}
